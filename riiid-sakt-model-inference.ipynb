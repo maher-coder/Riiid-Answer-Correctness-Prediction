{
 "cells": [
  {
   "cell_type": "code",
   "execution_count": 1,
   "metadata": {
    "execution": {
     "iopub.execute_input": "2021-01-04T21:16:22.244160Z",
     "iopub.status.busy": "2021-01-04T21:16:22.243421Z",
     "iopub.status.idle": "2021-01-04T21:16:24.644691Z",
     "shell.execute_reply": "2021-01-04T21:16:24.643621Z"
    },
    "papermill": {
     "duration": 2.422798,
     "end_time": "2021-01-04T21:16:24.644834",
     "exception": false,
     "start_time": "2021-01-04T21:16:22.222036",
     "status": "completed"
    },
    "tags": []
   },
   "outputs": [],
   "source": [
    "import numpy as np\n",
    "import gc\n",
    "import random\n",
    "from tqdm.notebook import tqdm\n",
    "from sklearn.metrics import roc_auc_score\n",
    "from sklearn.model_selection import train_test_split\n",
    "\n",
    "import seaborn as sns\n",
    "import matplotlib.pyplot as plt\n",
    "\n",
    "import torch\n",
    "import torch.nn as nn\n",
    "import torch.nn.utils.rnn as rnn_utils\n",
    "from torch.autograd import Variable\n",
    "from torch.utils.data import Dataset, DataLoader\n",
    "from pathlib import Path\n",
    "import psutil\n",
    "import pickle"
   ]
  },
  {
   "cell_type": "code",
   "execution_count": 2,
   "metadata": {
    "execution": {
     "iopub.execute_input": "2021-01-04T21:16:24.674800Z",
     "iopub.status.busy": "2021-01-04T21:16:24.672933Z",
     "iopub.status.idle": "2021-01-04T21:16:24.675505Z",
     "shell.execute_reply": "2021-01-04T21:16:24.676123Z"
    },
    "papermill": {
     "duration": 0.019519,
     "end_time": "2021-01-04T21:16:24.676287",
     "exception": false,
     "start_time": "2021-01-04T21:16:24.656768",
     "status": "completed"
    },
    "tags": []
   },
   "outputs": [],
   "source": [
    "MODEL_PATH = '../input/riiid-sakt-model-training-with-gpu/SAKT_model.pt'\n",
    "MAX_SEQ = 200\n",
    "ACCEPTED_USER_CONTENT_SIZE = 4\n",
    "EMBED_SIZE = 256\n",
    "BATCH_SIZE = 64\n",
    "DROPOUT = 0.1"
   ]
  },
  {
   "cell_type": "code",
   "execution_count": 3,
   "metadata": {
    "execution": {
     "iopub.execute_input": "2021-01-04T21:16:24.708519Z",
     "iopub.status.busy": "2021-01-04T21:16:24.707893Z",
     "iopub.status.idle": "2021-01-04T21:16:24.712180Z",
     "shell.execute_reply": "2021-01-04T21:16:24.711397Z"
    },
    "papermill": {
     "duration": 0.021021,
     "end_time": "2021-01-04T21:16:24.712282",
     "exception": false,
     "start_time": "2021-01-04T21:16:24.691261",
     "status": "completed"
    },
    "tags": []
   },
   "outputs": [],
   "source": [
    "def load_obj(name):\n",
    "    with open('../input/riiid-sakt-model-training-with-gpu/' + name + '.pkl',mode =  'rb') as f:\n",
    "        return pickle.load(f)"
   ]
  },
  {
   "cell_type": "code",
   "execution_count": 4,
   "metadata": {
    "execution": {
     "iopub.execute_input": "2021-01-04T21:16:24.739918Z",
     "iopub.status.busy": "2021-01-04T21:16:24.739214Z",
     "iopub.status.idle": "2021-01-04T21:16:33.600093Z",
     "shell.execute_reply": "2021-01-04T21:16:33.599313Z"
    },
    "papermill": {
     "duration": 8.876149,
     "end_time": "2021-01-04T21:16:33.600231",
     "exception": false,
     "start_time": "2021-01-04T21:16:24.724082",
     "status": "completed"
    },
    "tags": []
   },
   "outputs": [],
   "source": [
    "n_skill = 13523\n",
    "group = load_obj('group')"
   ]
  },
  {
   "cell_type": "code",
   "execution_count": 5,
   "metadata": {
    "execution": {
     "iopub.execute_input": "2021-01-04T21:16:33.641018Z",
     "iopub.status.busy": "2021-01-04T21:16:33.638742Z",
     "iopub.status.idle": "2021-01-04T21:16:33.641980Z",
     "shell.execute_reply": "2021-01-04T21:16:33.642496Z"
    },
    "papermill": {
     "duration": 0.028218,
     "end_time": "2021-01-04T21:16:33.642602",
     "exception": false,
     "start_time": "2021-01-04T21:16:33.614384",
     "status": "completed"
    },
    "tags": []
   },
   "outputs": [],
   "source": [
    "class FFN(nn.Module):\n",
    "    def __init__(self, state_size = 200, forward_expansion = 1, bn_size=MAX_SEQ - 1, dropout=0.2):\n",
    "        super(FFN, self).__init__()\n",
    "        self.state_size = state_size\n",
    "        \n",
    "        self.lr1 = nn.Linear(state_size, forward_expansion * state_size)\n",
    "        self.relu = nn.ReLU()\n",
    "        self.bn = nn.BatchNorm1d(bn_size)\n",
    "        self.lr2 = nn.Linear(forward_expansion * state_size, state_size)\n",
    "        self.dropout = nn.Dropout(dropout)\n",
    "        \n",
    "    def forward(self, x):\n",
    "        x = self.relu(self.lr1(x))\n",
    "        x = self.bn(x)\n",
    "        x = self.lr2(x)\n",
    "        return self.dropout(x)"
   ]
  },
  {
   "cell_type": "code",
   "execution_count": 6,
   "metadata": {
    "execution": {
     "iopub.execute_input": "2021-01-04T21:16:33.677287Z",
     "iopub.status.busy": "2021-01-04T21:16:33.675376Z",
     "iopub.status.idle": "2021-01-04T21:16:33.678175Z",
     "shell.execute_reply": "2021-01-04T21:16:33.678689Z"
    },
    "papermill": {
     "duration": 0.023112,
     "end_time": "2021-01-04T21:16:33.678802",
     "exception": false,
     "start_time": "2021-01-04T21:16:33.655690",
     "status": "completed"
    },
    "tags": []
   },
   "outputs": [],
   "source": [
    "def future_mask(seq_length):\n",
    "    future_mask = (np.triu(np.ones([seq_length, seq_length]), k = 1)).astype('bool')\n",
    "    return torch.from_numpy(future_mask)"
   ]
  },
  {
   "cell_type": "code",
   "execution_count": 7,
   "metadata": {
    "execution": {
     "iopub.execute_input": "2021-01-04T21:16:33.720301Z",
     "iopub.status.busy": "2021-01-04T21:16:33.718247Z",
     "iopub.status.idle": "2021-01-04T21:16:33.721103Z",
     "shell.execute_reply": "2021-01-04T21:16:33.721682Z"
    },
    "papermill": {
     "duration": 0.029343,
     "end_time": "2021-01-04T21:16:33.721827",
     "exception": false,
     "start_time": "2021-01-04T21:16:33.692484",
     "status": "completed"
    },
    "tags": []
   },
   "outputs": [],
   "source": [
    "class TransformerBlock(nn.Module):\n",
    "    def __init__(self, embed_dim, heads = 8, dropout = DROPOUT, forward_expansion = 1):\n",
    "        super(TransformerBlock, self).__init__()\n",
    "        self.multi_att = nn.MultiheadAttention(embed_dim=embed_dim, num_heads=heads, dropout=dropout)\n",
    "        self.dropout = nn.Dropout(dropout)\n",
    "        self.layer_normal = nn.LayerNorm(embed_dim)\n",
    "        self.ffn = FFN(embed_dim, forward_expansion = forward_expansion, dropout=dropout)\n",
    "        self.layer_normal_2 = nn.LayerNorm(embed_dim)\n",
    "        \n",
    "\n",
    "    def forward(self, value, key, query, att_mask):\n",
    "        att_output, att_weight = self.multi_att(value, key, query, attn_mask=att_mask)\n",
    "        att_output = self.dropout(self.layer_normal(att_output + value))\n",
    "        att_output = att_output.permute(1, 0, 2) # att_output: [s_len, bs, embed] => [bs, s_len, embed]\n",
    "        x = self.ffn(att_output)\n",
    "        x = self.dropout(self.layer_normal_2(x + att_output))\n",
    "        return x.squeeze(-1), att_weight"
   ]
  },
  {
   "cell_type": "code",
   "execution_count": 8,
   "metadata": {
    "execution": {
     "iopub.execute_input": "2021-01-04T21:16:33.766731Z",
     "iopub.status.busy": "2021-01-04T21:16:33.762668Z",
     "iopub.status.idle": "2021-01-04T21:16:33.769024Z",
     "shell.execute_reply": "2021-01-04T21:16:33.769534Z"
    },
    "papermill": {
     "duration": 0.034265,
     "end_time": "2021-01-04T21:16:33.769655",
     "exception": false,
     "start_time": "2021-01-04T21:16:33.735390",
     "status": "completed"
    },
    "tags": []
   },
   "outputs": [],
   "source": [
    "class Encoder(nn.Module):\n",
    "    def __init__(self, n_skill, max_seq=100, embed_dim=128, dropout = DROPOUT, forward_expansion = 1, num_layers=1, heads = 8):\n",
    "        super(Encoder, self).__init__()\n",
    "        self.n_skill, self.embed_dim = n_skill, embed_dim\n",
    "        self.embedding = nn.Embedding(2 * n_skill + 1, embed_dim)\n",
    "        self.pos_embedding = nn.Embedding(max_seq - 1, embed_dim)\n",
    "        self.e_embedding = nn.Embedding(n_skill+1, embed_dim)\n",
    "        self.layers = nn.ModuleList([TransformerBlock(embed_dim, forward_expansion = forward_expansion) for _ in range(num_layers)])\n",
    "        self.dropout = nn.Dropout(dropout)\n",
    "        \n",
    "    def forward(self, x, question_ids):\n",
    "        device = x.device\n",
    "        x = self.embedding(x)\n",
    "        pos_id = torch.arange(x.size(1)).unsqueeze(0).to(device)\n",
    "        pos_x = self.pos_embedding(pos_id)\n",
    "        x = self.dropout(x + pos_x)\n",
    "        x = x.permute(1, 0, 2) # x: [bs, s_len, embed] => [s_len, bs, embed]\n",
    "        e = self.e_embedding(question_ids)\n",
    "        e = e.permute(1, 0, 2)\n",
    "        for layer in self.layers:\n",
    "            att_mask = future_mask(e.size(0)).to(device)\n",
    "            x, att_weight = layer(e, x, x, att_mask=att_mask)\n",
    "            x = x.permute(1, 0, 2)\n",
    "        x = x.permute(1, 0, 2)\n",
    "        return x, att_weight"
   ]
  },
  {
   "cell_type": "code",
   "execution_count": 9,
   "metadata": {
    "execution": {
     "iopub.execute_input": "2021-01-04T21:16:33.806637Z",
     "iopub.status.busy": "2021-01-04T21:16:33.805783Z",
     "iopub.status.idle": "2021-01-04T21:16:33.809176Z",
     "shell.execute_reply": "2021-01-04T21:16:33.809660Z"
    },
    "papermill": {
     "duration": 0.025912,
     "end_time": "2021-01-04T21:16:33.809789",
     "exception": false,
     "start_time": "2021-01-04T21:16:33.783877",
     "status": "completed"
    },
    "tags": []
   },
   "outputs": [],
   "source": [
    "class SAKTModel(nn.Module):\n",
    "    def __init__(self, n_skill, max_seq=100, embed_dim=128, dropout = DROPOUT, forward_expansion = 1, enc_layers=1, heads = 8):\n",
    "        super(SAKTModel, self).__init__()\n",
    "        self.encoder = Encoder(n_skill, max_seq, embed_dim, dropout, forward_expansion, num_layers=enc_layers)\n",
    "        self.pred = nn.Linear(embed_dim, 1)\n",
    "        \n",
    "    def forward(self, x, question_ids):\n",
    "        x, att_weight = self.encoder(x, question_ids)\n",
    "        x = self.pred(x)\n",
    "        return x.squeeze(-1), att_weight"
   ]
  },
  {
   "cell_type": "code",
   "execution_count": 10,
   "metadata": {
    "execution": {
     "iopub.execute_input": "2021-01-04T21:16:33.842036Z",
     "iopub.status.busy": "2021-01-04T21:16:33.841358Z",
     "iopub.status.idle": "2021-01-04T21:16:33.845482Z",
     "shell.execute_reply": "2021-01-04T21:16:33.844993Z"
    },
    "papermill": {
     "duration": 0.021456,
     "end_time": "2021-01-04T21:16:33.845599",
     "exception": false,
     "start_time": "2021-01-04T21:16:33.824143",
     "status": "completed"
    },
    "tags": []
   },
   "outputs": [],
   "source": [
    "def create_model():\n",
    "    return SAKTModel(n_skill, max_seq=MAX_SEQ, embed_dim = EMBED_SIZE, forward_expansion=1, enc_layers=1, heads=8, dropout=0.1)"
   ]
  },
  {
   "cell_type": "code",
   "execution_count": 11,
   "metadata": {
    "execution": {
     "iopub.execute_input": "2021-01-04T21:16:33.885872Z",
     "iopub.status.busy": "2021-01-04T21:16:33.885267Z",
     "iopub.status.idle": "2021-01-04T21:16:33.888918Z",
     "shell.execute_reply": "2021-01-04T21:16:33.889341Z"
    },
    "papermill": {
     "duration": 0.030897,
     "end_time": "2021-01-04T21:16:33.889453",
     "exception": false,
     "start_time": "2021-01-04T21:16:33.858556",
     "status": "completed"
    },
    "tags": []
   },
   "outputs": [],
   "source": [
    "class TestDataset(Dataset):\n",
    "    def __init__(self, samples, test_df, n_skill, max_seq=100):\n",
    "        super(TestDataset, self).__init__()\n",
    "        self.samples, self.user_ids, self.test_df = samples, [x for x in test_df[\"user_id\"].unique()], test_df\n",
    "        self.n_skill, self.max_seq = n_skill, max_seq\n",
    "\n",
    "    def __len__(self):\n",
    "        return self.test_df.shape[0]\n",
    "    \n",
    "    def __getitem__(self, index):\n",
    "        test_info = self.test_df.iloc[index]\n",
    "        \n",
    "        user_id = test_info['user_id']\n",
    "        target_id = test_info['content_id']\n",
    "        \n",
    "        content_id_seq = np.zeros(self.max_seq, dtype=int)\n",
    "        answered_correctly_seq = np.zeros(self.max_seq, dtype=int)\n",
    "        \n",
    "        if user_id in self.samples.index:\n",
    "            content_id, answered_correctly = self.samples[user_id]\n",
    "            \n",
    "            seq_len = len(content_id)\n",
    "            \n",
    "            if seq_len >= self.max_seq:\n",
    "                content_id_seq = content_id[-self.max_seq:]\n",
    "                answered_correctly_seq = answered_correctly[-self.max_seq:]\n",
    "            else:\n",
    "                content_id_seq[-seq_len:] = content_id\n",
    "                answered_correctly_seq[-seq_len:] = answered_correctly\n",
    "                \n",
    "        x = content_id_seq[1:].copy()\n",
    "        x += (answered_correctly_seq[1:] == 1) * self.n_skill\n",
    "        \n",
    "        questions = np.append(content_id_seq[2:], [target_id])\n",
    "        \n",
    "        return x, questions"
   ]
  },
  {
   "cell_type": "code",
   "execution_count": 12,
   "metadata": {
    "execution": {
     "iopub.execute_input": "2021-01-04T21:16:34.284263Z",
     "iopub.status.busy": "2021-01-04T21:16:34.283432Z",
     "iopub.status.idle": "2021-01-04T21:16:39.932643Z",
     "shell.execute_reply": "2021-01-04T21:16:39.932034Z"
    },
    "papermill": {
     "duration": 6.030138,
     "end_time": "2021-01-04T21:16:39.932765",
     "exception": false,
     "start_time": "2021-01-04T21:16:33.902627",
     "status": "completed"
    },
    "tags": []
   },
   "outputs": [
    {
     "data": {
      "text/plain": [
       "SAKTModel(\n",
       "  (encoder): Encoder(\n",
       "    (embedding): Embedding(27047, 256)\n",
       "    (pos_embedding): Embedding(199, 256)\n",
       "    (e_embedding): Embedding(13524, 256)\n",
       "    (layers): ModuleList(\n",
       "      (0): TransformerBlock(\n",
       "        (multi_att): MultiheadAttention(\n",
       "          (out_proj): _LinearWithBias(in_features=256, out_features=256, bias=True)\n",
       "        )\n",
       "        (dropout): Dropout(p=0.1, inplace=False)\n",
       "        (layer_normal): LayerNorm((256,), eps=1e-05, elementwise_affine=True)\n",
       "        (ffn): FFN(\n",
       "          (lr1): Linear(in_features=256, out_features=256, bias=True)\n",
       "          (relu): ReLU()\n",
       "          (bn): BatchNorm1d(199, eps=1e-05, momentum=0.1, affine=True, track_running_stats=True)\n",
       "          (lr2): Linear(in_features=256, out_features=256, bias=True)\n",
       "          (dropout): Dropout(p=0.1, inplace=False)\n",
       "        )\n",
       "        (layer_normal_2): LayerNorm((256,), eps=1e-05, elementwise_affine=True)\n",
       "      )\n",
       "    )\n",
       "    (dropout): Dropout(p=0.1, inplace=False)\n",
       "  )\n",
       "  (pred): Linear(in_features=256, out_features=1, bias=True)\n",
       ")"
      ]
     },
     "execution_count": 12,
     "metadata": {},
     "output_type": "execute_result"
    }
   ],
   "source": [
    "device = torch.device(\"cuda\" if torch.cuda.is_available() else \"cpu\")\n",
    "model = create_model()\n",
    "model.load_state_dict(torch.load(MODEL_PATH))\n",
    "model.to(device)"
   ]
  },
  {
   "cell_type": "code",
   "execution_count": 13,
   "metadata": {
    "execution": {
     "iopub.execute_input": "2021-01-04T21:16:39.966773Z",
     "iopub.status.busy": "2021-01-04T21:16:39.966133Z",
     "iopub.status.idle": "2021-01-04T21:16:39.989220Z",
     "shell.execute_reply": "2021-01-04T21:16:39.988657Z"
    },
    "papermill": {
     "duration": 0.040567,
     "end_time": "2021-01-04T21:16:39.989319",
     "exception": false,
     "start_time": "2021-01-04T21:16:39.948752",
     "status": "completed"
    },
    "tags": []
   },
   "outputs": [],
   "source": [
    "import riiideducation"
   ]
  },
  {
   "cell_type": "code",
   "execution_count": 14,
   "metadata": {
    "execution": {
     "iopub.execute_input": "2021-01-04T21:16:40.021965Z",
     "iopub.status.busy": "2021-01-04T21:16:40.021357Z",
     "iopub.status.idle": "2021-01-04T21:16:40.025456Z",
     "shell.execute_reply": "2021-01-04T21:16:40.024873Z"
    },
    "papermill": {
     "duration": 0.022072,
     "end_time": "2021-01-04T21:16:40.025544",
     "exception": false,
     "start_time": "2021-01-04T21:16:40.003472",
     "status": "completed"
    },
    "tags": []
   },
   "outputs": [],
   "source": [
    "env = riiideducation.make_env()"
   ]
  },
  {
   "cell_type": "code",
   "execution_count": 15,
   "metadata": {
    "execution": {
     "iopub.execute_input": "2021-01-04T21:16:40.058986Z",
     "iopub.status.busy": "2021-01-04T21:16:40.057238Z",
     "iopub.status.idle": "2021-01-04T21:16:40.059637Z",
     "shell.execute_reply": "2021-01-04T21:16:40.060115Z"
    },
    "papermill": {
     "duration": 0.020514,
     "end_time": "2021-01-04T21:16:40.060221",
     "exception": false,
     "start_time": "2021-01-04T21:16:40.039707",
     "status": "completed"
    },
    "tags": []
   },
   "outputs": [],
   "source": [
    "iter_test = env.iter_test()"
   ]
  },
  {
   "cell_type": "code",
   "execution_count": 16,
   "metadata": {
    "execution": {
     "iopub.execute_input": "2021-01-04T21:16:40.102294Z",
     "iopub.status.busy": "2021-01-04T21:16:40.096982Z",
     "iopub.status.idle": "2021-01-04T21:16:41.238342Z",
     "shell.execute_reply": "2021-01-04T21:16:41.239000Z"
    },
    "papermill": {
     "duration": 1.164531,
     "end_time": "2021-01-04T21:16:41.239174",
     "exception": false,
     "start_time": "2021-01-04T21:16:40.074643",
     "status": "completed"
    },
    "tags": []
   },
   "outputs": [
    {
     "data": {
      "application/vnd.jupyter.widget-view+json": {
       "model_id": "57d06f7808cd425d96813479ba281c15",
       "version_major": 2,
       "version_minor": 0
      },
      "text/plain": [
       "HBox(children=(FloatProgress(value=1.0, bar_style='info', max=1.0), HTML(value='')))"
      ]
     },
     "metadata": {},
     "output_type": "display_data"
    },
    {
     "name": "stdout",
     "output_type": "stream",
     "text": [
      "24.0\n",
      "24.0\n",
      "24.0\n",
      "\n"
     ]
    }
   ],
   "source": [
    "model.eval()\n",
    "\n",
    "prev_test_df = None\n",
    "\n",
    "for (test_df, sample_prediction_df) in tqdm(iter_test):\n",
    "    \n",
    "    if (prev_test_df is not None) & (psutil.virtual_memory().percent<90):\n",
    "        print(psutil.virtual_memory().percent)\n",
    "        prev_test_df['answered_correctly'] = eval(test_df['prior_group_answers_correct'].iloc[0])\n",
    "        prev_test_df = prev_test_df[prev_test_df.content_type_id == False]\n",
    "        prev_group = prev_test_df[['user_id', 'content_id', 'answered_correctly']].groupby('user_id').apply(lambda r: (\n",
    "            r['content_id'].values,\n",
    "            r['answered_correctly'].values))\n",
    "        for prev_user_id in prev_group.index:\n",
    "            prev_group_content = prev_group[prev_user_id][0]\n",
    "            prev_group_answered_correctly = prev_group[prev_user_id][1]\n",
    "            if prev_user_id in group.index:\n",
    "                group[prev_user_id] = (np.append(group[prev_user_id][0], prev_group_content), \n",
    "                                       np.append(group[prev_user_id][1], prev_group_answered_correctly))\n",
    "            else:\n",
    "                group[prev_user_id] = (prev_group_content, prev_group_answered_correctly)\n",
    "            \n",
    "            if len(group[prev_user_id][0]) > MAX_SEQ:\n",
    "                new_group_content = group[prev_user_id][0][-MAX_SEQ:]\n",
    "                new_group_answered_correctly = group[prev_user_id][1][-MAX_SEQ:]\n",
    "                group[prev_user_id] = (new_group_content, new_group_answered_correctly)\n",
    "                \n",
    "    prev_test_df = test_df.copy()\n",
    "    test_df = test_df[test_df.content_type_id == False]\n",
    "    \n",
    "    test_dataset = TestDataset(group, test_df, n_skill, max_seq=MAX_SEQ)\n",
    "    test_dataloader = DataLoader(test_dataset, batch_size=len(test_df), shuffle=False)\n",
    "    \n",
    "    item = next(iter(test_dataloader))\n",
    "    x = item[0].to(device).long()\n",
    "    target_id = item[1].to(device).long()\n",
    "    \n",
    "    with torch.no_grad():\n",
    "        output, _ = model(x, target_id)\n",
    "        \n",
    "    output = torch.sigmoid(output)\n",
    "    output = output[:, -1]\n",
    "    test_df['answered_correctly'] = output.cpu().numpy()\n",
    "    env.predict(test_df.loc[test_df['content_type_id'] == 0, ['row_id', 'answered_correctly']])"
   ]
  }
 ],
 "metadata": {
  "kernelspec": {
   "display_name": "Python 3",
   "language": "python",
   "name": "python3"
  },
  "language_info": {
   "codemirror_mode": {
    "name": "ipython",
    "version": 3
   },
   "file_extension": ".py",
   "mimetype": "text/x-python",
   "name": "python",
   "nbconvert_exporter": "python",
   "pygments_lexer": "ipython3",
   "version": "3.7.6"
  },
  "papermill": {
   "duration": 24.756887,
   "end_time": "2021-01-04T21:16:42.617367",
   "environment_variables": {},
   "exception": null,
   "input_path": "__notebook__.ipynb",
   "output_path": "__notebook__.ipynb",
   "parameters": {},
   "start_time": "2021-01-04T21:16:17.860480",
   "version": "2.1.0"
  },
  "widgets": {
   "application/vnd.jupyter.widget-state+json": {
    "state": {
     "40f9fda5bcae49d38efa51ae16ac9200": {
      "model_module": "@jupyter-widgets/controls",
      "model_module_version": "1.5.0",
      "model_name": "DescriptionStyleModel",
      "state": {
       "_model_module": "@jupyter-widgets/controls",
       "_model_module_version": "1.5.0",
       "_model_name": "DescriptionStyleModel",
       "_view_count": null,
       "_view_module": "@jupyter-widgets/base",
       "_view_module_version": "1.2.0",
       "_view_name": "StyleView",
       "description_width": ""
      }
     },
     "46527a77a993459b81f6456e0dd49bce": {
      "model_module": "@jupyter-widgets/base",
      "model_module_version": "1.2.0",
      "model_name": "LayoutModel",
      "state": {
       "_model_module": "@jupyter-widgets/base",
       "_model_module_version": "1.2.0",
       "_model_name": "LayoutModel",
       "_view_count": null,
       "_view_module": "@jupyter-widgets/base",
       "_view_module_version": "1.2.0",
       "_view_name": "LayoutView",
       "align_content": null,
       "align_items": null,
       "align_self": null,
       "border": null,
       "bottom": null,
       "display": null,
       "flex": null,
       "flex_flow": null,
       "grid_area": null,
       "grid_auto_columns": null,
       "grid_auto_flow": null,
       "grid_auto_rows": null,
       "grid_column": null,
       "grid_gap": null,
       "grid_row": null,
       "grid_template_areas": null,
       "grid_template_columns": null,
       "grid_template_rows": null,
       "height": null,
       "justify_content": null,
       "justify_items": null,
       "left": null,
       "margin": null,
       "max_height": null,
       "max_width": null,
       "min_height": null,
       "min_width": null,
       "object_fit": null,
       "object_position": null,
       "order": null,
       "overflow": null,
       "overflow_x": null,
       "overflow_y": null,
       "padding": null,
       "right": null,
       "top": null,
       "visibility": null,
       "width": null
      }
     },
     "57d06f7808cd425d96813479ba281c15": {
      "model_module": "@jupyter-widgets/controls",
      "model_module_version": "1.5.0",
      "model_name": "HBoxModel",
      "state": {
       "_dom_classes": [],
       "_model_module": "@jupyter-widgets/controls",
       "_model_module_version": "1.5.0",
       "_model_name": "HBoxModel",
       "_view_count": null,
       "_view_module": "@jupyter-widgets/controls",
       "_view_module_version": "1.5.0",
       "_view_name": "HBoxView",
       "box_style": "",
       "children": [
        "IPY_MODEL_661154496a024358a8d5e7ad694f3053",
        "IPY_MODEL_8cb425886b434d2b9517f65ad8e2cf71"
       ],
       "layout": "IPY_MODEL_c350fd2992c448fdbd901a787d30c2bf"
      }
     },
     "5847616c25934718a5663995637034a8": {
      "model_module": "@jupyter-widgets/base",
      "model_module_version": "1.2.0",
      "model_name": "LayoutModel",
      "state": {
       "_model_module": "@jupyter-widgets/base",
       "_model_module_version": "1.2.0",
       "_model_name": "LayoutModel",
       "_view_count": null,
       "_view_module": "@jupyter-widgets/base",
       "_view_module_version": "1.2.0",
       "_view_name": "LayoutView",
       "align_content": null,
       "align_items": null,
       "align_self": null,
       "border": null,
       "bottom": null,
       "display": null,
       "flex": null,
       "flex_flow": null,
       "grid_area": null,
       "grid_auto_columns": null,
       "grid_auto_flow": null,
       "grid_auto_rows": null,
       "grid_column": null,
       "grid_gap": null,
       "grid_row": null,
       "grid_template_areas": null,
       "grid_template_columns": null,
       "grid_template_rows": null,
       "height": null,
       "justify_content": null,
       "justify_items": null,
       "left": null,
       "margin": null,
       "max_height": null,
       "max_width": null,
       "min_height": null,
       "min_width": null,
       "object_fit": null,
       "object_position": null,
       "order": null,
       "overflow": null,
       "overflow_x": null,
       "overflow_y": null,
       "padding": null,
       "right": null,
       "top": null,
       "visibility": null,
       "width": null
      }
     },
     "661154496a024358a8d5e7ad694f3053": {
      "model_module": "@jupyter-widgets/controls",
      "model_module_version": "1.5.0",
      "model_name": "FloatProgressModel",
      "state": {
       "_dom_classes": [],
       "_model_module": "@jupyter-widgets/controls",
       "_model_module_version": "1.5.0",
       "_model_name": "FloatProgressModel",
       "_view_count": null,
       "_view_module": "@jupyter-widgets/controls",
       "_view_module_version": "1.5.0",
       "_view_name": "ProgressView",
       "bar_style": "success",
       "description": "",
       "description_tooltip": null,
       "layout": "IPY_MODEL_46527a77a993459b81f6456e0dd49bce",
       "max": 1.0,
       "min": 0.0,
       "orientation": "horizontal",
       "style": "IPY_MODEL_a141d5cfdb8a469383f0607b47f62b38",
       "value": 1.0
      }
     },
     "8cb425886b434d2b9517f65ad8e2cf71": {
      "model_module": "@jupyter-widgets/controls",
      "model_module_version": "1.5.0",
      "model_name": "HTMLModel",
      "state": {
       "_dom_classes": [],
       "_model_module": "@jupyter-widgets/controls",
       "_model_module_version": "1.5.0",
       "_model_name": "HTMLModel",
       "_view_count": null,
       "_view_module": "@jupyter-widgets/controls",
       "_view_module_version": "1.5.0",
       "_view_name": "HTMLView",
       "description": "",
       "description_tooltip": null,
       "layout": "IPY_MODEL_5847616c25934718a5663995637034a8",
       "placeholder": "​",
       "style": "IPY_MODEL_40f9fda5bcae49d38efa51ae16ac9200",
       "value": " 4/? [00:01&lt;00:00,  3.57it/s]"
      }
     },
     "a141d5cfdb8a469383f0607b47f62b38": {
      "model_module": "@jupyter-widgets/controls",
      "model_module_version": "1.5.0",
      "model_name": "ProgressStyleModel",
      "state": {
       "_model_module": "@jupyter-widgets/controls",
       "_model_module_version": "1.5.0",
       "_model_name": "ProgressStyleModel",
       "_view_count": null,
       "_view_module": "@jupyter-widgets/base",
       "_view_module_version": "1.2.0",
       "_view_name": "StyleView",
       "bar_color": null,
       "description_width": "initial"
      }
     },
     "c350fd2992c448fdbd901a787d30c2bf": {
      "model_module": "@jupyter-widgets/base",
      "model_module_version": "1.2.0",
      "model_name": "LayoutModel",
      "state": {
       "_model_module": "@jupyter-widgets/base",
       "_model_module_version": "1.2.0",
       "_model_name": "LayoutModel",
       "_view_count": null,
       "_view_module": "@jupyter-widgets/base",
       "_view_module_version": "1.2.0",
       "_view_name": "LayoutView",
       "align_content": null,
       "align_items": null,
       "align_self": null,
       "border": null,
       "bottom": null,
       "display": null,
       "flex": null,
       "flex_flow": null,
       "grid_area": null,
       "grid_auto_columns": null,
       "grid_auto_flow": null,
       "grid_auto_rows": null,
       "grid_column": null,
       "grid_gap": null,
       "grid_row": null,
       "grid_template_areas": null,
       "grid_template_columns": null,
       "grid_template_rows": null,
       "height": null,
       "justify_content": null,
       "justify_items": null,
       "left": null,
       "margin": null,
       "max_height": null,
       "max_width": null,
       "min_height": null,
       "min_width": null,
       "object_fit": null,
       "object_position": null,
       "order": null,
       "overflow": null,
       "overflow_x": null,
       "overflow_y": null,
       "padding": null,
       "right": null,
       "top": null,
       "visibility": null,
       "width": null
      }
     }
    },
    "version_major": 2,
    "version_minor": 0
   }
  }
 },
 "nbformat": 4,
 "nbformat_minor": 4
}
